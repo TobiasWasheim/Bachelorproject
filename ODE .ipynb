{
 "cells": [
  {
   "cell_type": "code",
   "execution_count": 130,
   "metadata": {},
   "outputs": [],
   "source": [
    "import matplotlib.pyplot as plt\n",
    "import numpy as np\n",
    "import time as time\n",
    "import copy"
   ]
  },
  {
   "cell_type": "code",
   "execution_count": 131,
   "metadata": {},
   "outputs": [],
   "source": [
    "def yeq(x):\n",
    "    g = 2\n",
    "    return g*x**(3/2)/(2*np.pi)*np.exp(-x)\n",
    "\n",
    "def dydt(x,y):\n",
    "    \n",
    "    \n",
    "    \"\"\"\n",
    "    Differential Equation\n",
    "    \"\"\"\n",
    "    k   = 10**5\n",
    "    return - k/x**2 * (y - yeq(x))"
   ]
  },
  {
   "cell_type": "code",
   "execution_count": 1,
   "metadata": {},
   "outputs": [],
   "source": [
    "def solver_adaptive(t,y):\n",
    "    \"\"\"\n",
    "    Ordinary differential equation solver for Euler's method\n",
    "    \"\"\"\n",
    "    ts = []\n",
    "    ys = []\n",
    "    h  = 0.001 #step size\n",
    "    tmax = 12 #maximum t-value\n",
    "\n",
    "    delta = 1e-4\n",
    "    rho = 0\n",
    "    \n",
    "    \"\"\"\n",
    "    h' = rho * h\n",
    "    \"\"\"\n",
    "    \n",
    "    while t < tmax:\n",
    "        ts.append(t)\n",
    "        ys.append(y)\n",
    "        rho = 0\n",
    "        while True:\n",
    "            dt = 2 * h\n",
    "            \n",
    "            ytry  = copy.deepcopy(y)\n",
    "            y2try = copy.deepcopy(y)\n",
    "            \n",
    "            \n",
    "            ytry += dydt(t,ytry) * h\n",
    "            ytry += dydt(t+h,ytry) * h\n",
    "            \n",
    "            y2try += dydt(t,y2try) * (2 * h)\n",
    "\n",
    "            \n",
    "            error = max(0.5 * abs(y2try - ytry),1e-16)\n",
    "            h = min(5 * h, h * delta/error)\n",
    "            print(t, ytry, y2try, error, h)\n",
    "            if delta < error:\n",
    "                break\n",
    "        t += dt\n",
    "        y = copy.deepcopy(ytry)\n",
    "        \n",
    "    plt.plot(ts,ys, label = 'Euler forward numerical solution \\n with adaptive step size')\n",
    "    plt.legend()\n",
    "    \n",
    "    return plt.show()\n",
    "            \n",
    "            "
   ]
  },
  {
   "cell_type": "code",
   "execution_count": 2,
   "metadata": {},
   "outputs": [
    {
     "ename": "NameError",
     "evalue": "name 'time' is not defined",
     "output_type": "error",
     "traceback": [
      "\u001b[0;31m---------------------------------------------------------------------------\u001b[0m",
      "\u001b[0;31mNameError\u001b[0m                                 Traceback (most recent call last)",
      "\u001b[0;32m<ipython-input-2-e72b66ad2d17>\u001b[0m in \u001b[0;36m<module>\u001b[0;34m\u001b[0m\n\u001b[1;32m      4\u001b[0m \u001b[0mxinit\u001b[0m \u001b[0;34m=\u001b[0m \u001b[0;36m8\u001b[0m\u001b[0;34m\u001b[0m\u001b[0;34m\u001b[0m\u001b[0m\n\u001b[1;32m      5\u001b[0m \u001b[0;34m\u001b[0m\u001b[0m\n\u001b[0;32m----> 6\u001b[0;31m \u001b[0mstart\u001b[0m \u001b[0;34m=\u001b[0m \u001b[0mtime\u001b[0m\u001b[0;34m.\u001b[0m\u001b[0mtime\u001b[0m\u001b[0;34m(\u001b[0m\u001b[0;34m)\u001b[0m\u001b[0;34m\u001b[0m\u001b[0;34m\u001b[0m\u001b[0m\n\u001b[0m\u001b[1;32m      7\u001b[0m \u001b[0msolver_adaptive\u001b[0m\u001b[0;34m(\u001b[0m\u001b[0mxinit\u001b[0m\u001b[0;34m,\u001b[0m\u001b[0myeq\u001b[0m\u001b[0;34m(\u001b[0m\u001b[0mxinit\u001b[0m\u001b[0;34m)\u001b[0m\u001b[0;34m)\u001b[0m\u001b[0;34m\u001b[0m\u001b[0;34m\u001b[0m\u001b[0m\n\u001b[1;32m      8\u001b[0m \u001b[0mend\u001b[0m \u001b[0;34m=\u001b[0m \u001b[0mtime\u001b[0m\u001b[0;34m.\u001b[0m\u001b[0mtime\u001b[0m\u001b[0;34m(\u001b[0m\u001b[0;34m)\u001b[0m\u001b[0;34m\u001b[0m\u001b[0;34m\u001b[0m\u001b[0m\n",
      "\u001b[0;31mNameError\u001b[0m: name 'time' is not defined"
     ]
    }
   ],
   "source": [
    "\"\"\"\n",
    "Y_EQ = n_X^(0) / T^3\n",
    "\"\"\"\n",
    "xinit = 8\n",
    "\n",
    "start = time.time()\n",
    "solver_adaptive(xinit,yeq(xinit))\n",
    "end = time.time()\n",
    "\n",
    "delta_time = end-start\n",
    "print('It took', f'{delta_time:.2f}', 'seconds to run the ODE solver.')"
   ]
  },
  {
   "cell_type": "code",
   "execution_count": null,
   "metadata": {},
   "outputs": [],
   "source": []
  },
  {
   "cell_type": "code",
   "execution_count": null,
   "metadata": {},
   "outputs": [],
   "source": []
  }
 ],
 "metadata": {
  "kernelspec": {
   "display_name": "Python 3",
   "language": "python",
   "name": "python3"
  },
  "language_info": {
   "codemirror_mode": {
    "name": "ipython",
    "version": 3
   },
   "file_extension": ".py",
   "mimetype": "text/x-python",
   "name": "python",
   "nbconvert_exporter": "python",
   "pygments_lexer": "ipython3",
   "version": "3.8.5"
  }
 },
 "nbformat": 4,
 "nbformat_minor": 4
}
